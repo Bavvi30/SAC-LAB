{
 "cells": [
  {
   "cell_type": "code",
   "execution_count": 4,
   "id": "d649fdf8",
   "metadata": {},
   "outputs": [
    {
     "name": "stdout",
     "output_type": "stream",
     "text": [
      "enter ur name:bhavani\n",
      "welcome bhavani\n"
     ]
    }
   ],
   "source": [
    "name=input(\"enter ur name:\")\n",
    "print(\"welcome\",name)\n"
   ]
  },
  {
   "cell_type": "code",
   "execution_count": null,
   "id": "88ef0899",
   "metadata": {},
   "outputs": [],
   "source": []
  },
  {
   "cell_type": "code",
   "execution_count": 3,
   "id": "41db7e5a",
   "metadata": {},
   "outputs": [
    {
     "name": "stdout",
     "output_type": "stream",
     "text": [
      "enter the value of a:3\n",
      "enter the value of b:5\n",
      "35\n"
     ]
    }
   ],
   "source": [
    "a=input(\"enter the value of a:\")\n",
    "b=input(\"enter the value of b:\")\n",
    "print(a+b)"
   ]
  },
  {
   "cell_type": "code",
   "execution_count": 5,
   "id": "cf646f41",
   "metadata": {},
   "outputs": [
    {
     "name": "stdout",
     "output_type": "stream",
     "text": [
      "enter the value of a:2\n",
      "enter the value of b:4\n",
      "6\n"
     ]
    }
   ],
   "source": [
    "a=int(input(\"enter the value of a:\"))\n",
    "b=int(input(\"enter the value of b:\"))\n",
    "print(a+b)"
   ]
  },
  {
   "cell_type": "code",
   "execution_count": 6,
   "id": "d8bcf045",
   "metadata": {},
   "outputs": [
    {
     "name": "stdout",
     "output_type": "stream",
     "text": [
      "what is your passion?coding\n",
      "coding is my passion\n"
     ]
    }
   ],
   "source": [
    "passion=input(\"what is your passion?\")\n",
    "print(\"{0} is my passion\".format(passion))"
   ]
  },
  {
   "cell_type": "code",
   "execution_count": 13,
   "id": "1d8cd841",
   "metadata": {},
   "outputs": [
    {
     "name": "stdout",
     "output_type": "stream",
     "text": [
      "enter ur name:bhavani\n",
      "enter ur roll number:4084\n",
      "i am bhavani and my roll no is4084\n"
     ]
    }
   ],
   "source": [
    "name=input(\"enter ur name:\")\n",
    "roll_no=input(\"enter ur roll number:\")\n",
    "print(\"i am {0} and my roll no is{1}\".\n",
    "      format(name,roll_no))"
   ]
  },
  {
   "cell_type": "code",
   "execution_count": 14,
   "id": "8f766cdd",
   "metadata": {},
   "outputs": [
    {
     "name": "stdout",
     "output_type": "stream",
     "text": [
      "the value a is 10 and b value is 20\n",
      "the value a is 20 and b value is 10\n"
     ]
    }
   ],
   "source": [
    "#positional change of index of arguments\n",
    "a=10\n",
    "b=20\n",
    "print(\"the value a is {0} and b value is {1}\".format(a,b))\n",
    "print(\"the value a is {1} and b value is {0}\".format(a,b))"
   ]
  },
  {
   "cell_type": "code",
   "execution_count": 15,
   "id": "06aff69c",
   "metadata": {},
   "outputs": [
    {
     "name": "stdout",
     "output_type": "stream",
     "text": [
      "you can do the impossible. never ever give up.\n"
     ]
    }
   ],
   "source": [
    "print(\"you can do the {a}. {b}\".format(a=\"impossible\",b=\"never ever give up.\"))"
   ]
  },
  {
   "cell_type": "code",
   "execution_count": 16,
   "id": "67a118d1",
   "metadata": {},
   "outputs": [
    {
     "name": "stdout",
     "output_type": "stream",
     "text": [
      "addition of 20 and 30 is 50\n"
     ]
    }
   ],
   "source": [
    "a=20\n",
    "b=30\n",
    "print(f\"addition of {a} and {b} is {a+b}\")"
   ]
  },
  {
   "cell_type": "code",
   "execution_count": 17,
   "id": "22694c40",
   "metadata": {},
   "outputs": [
    {
     "name": "stdout",
     "output_type": "stream",
     "text": [
      "enter the radius of the circle90\n",
      "the area of circle is 25284.15\n",
      "the circumference of circle is 565.47\n"
     ]
    }
   ],
   "source": [
    "radius=int(input(\"enter the radius of the circle\"))\n",
    "area_of_circle=3.1215*radius*radius\n",
    "circumference=2*3.1415*radius\n",
    "print(f\"the area of circle is {area_of_circle}\")\n",
    "print(f\"the circumference of circle is {circumference}\")"
   ]
  },
  {
   "cell_type": "code",
   "execution_count": 18,
   "id": "5076d3a3",
   "metadata": {},
   "outputs": [
    {
     "name": "stdout",
     "output_type": "stream",
     "text": [
      "enter your birth year:2007\n",
      "you are 18 years old\n"
     ]
    }
   ],
   "source": [
    "birth_year=int(input(\"enter your birth year:\"))\n",
    "current_year=2025\n",
    "age=current_year-birth_year\n",
    "print(f\"you are {age} years old\")"
   ]
  },
  {
   "cell_type": "code",
   "execution_count": 20,
   "id": "2d737de6",
   "metadata": {},
   "outputs": [
    {
     "name": "stdout",
     "output_type": "stream",
     "text": [
      "enter ur cgpa8\n",
      "work hard\n"
     ]
    }
   ],
   "source": [
    "cgpa=float(input(\"enter ur cgpa\"))\n",
    "if cgpa>9.2:\n",
    "    print(\"Topper\")\n",
    "elif cgpa>8 and cgpa<9.2:\n",
    "    print(\"good in academics\")\n",
    "else:\n",
    "    print(\"work hard\")"
   ]
  },
  {
   "cell_type": "code",
   "execution_count": 27,
   "id": "afbf3107",
   "metadata": {},
   "outputs": [
    {
     "name": "stdout",
     "output_type": "stream",
     "text": [
      "enter total marks:25\n",
      "enter the marks obtained:22\n",
      "Exact percentage:88.0\n",
      "Whole percentage shown on report:88%\n"
     ]
    }
   ],
   "source": [
    "total_marks=int(input(\"enter total marks:\"))\n",
    "marks_obtained=int(input(\"enter the marks obtained:\"))\n",
    "percentage=(marks_obtained/total_marks)*100\n",
    "whole_percentage=int(percentage)\n",
    "print(f\"Exact percentage:{percentage}\")\n",
    "print(f\"Whole percentage shown on report:{whole_percentage}%\")"
   ]
  },
  {
   "cell_type": "markdown",
   "id": "ad2a0466",
   "metadata": {},
   "source": [
    " "
   ]
  },
  {
   "cell_type": "code",
   "execution_count": 35,
   "id": "1918f366",
   "metadata": {},
   "outputs": [
    {
     "name": "stdout",
     "output_type": "stream",
     "text": [
      "I am 20 years old\n"
     ]
    }
   ],
   "source": [
    "age=20\n",
    "print(\"I am \"+str(age)+\" years old\")"
   ]
  },
  {
   "cell_type": "code",
   "execution_count": 34,
   "id": "a19fa053",
   "metadata": {},
   "outputs": [
    {
     "name": "stdout",
     "output_type": "stream",
     "text": [
      "enter an integer between 0 and 225:50\n",
      " The ASCII character for 50 is:2\n"
     ]
    }
   ],
   "source": [
    "num=int(input(\"enter an integer between 0 and 225:\"))\n",
    "char=chr(num)\n",
    "print(f\" The ASCII character for {num} is:{char}\")\n"
   ]
  },
  {
   "cell_type": "code",
   "execution_count": 36,
   "id": "03da38a9",
   "metadata": {},
   "outputs": [
    {
     "name": "stdout",
     "output_type": "stream",
     "text": [
      "complex number(real+imag): (3+4j)\n"
     ]
    }
   ],
   "source": [
    "c=complex(3,4)\n",
    "print(\"complex number(real+imag):\",c)"
   ]
  },
  {
   "cell_type": "code",
   "execution_count": null,
   "id": "a9c4e29a",
   "metadata": {},
   "outputs": [],
   "source": []
  }
 ],
 "metadata": {
  "kernelspec": {
   "display_name": "Python 3 (ipykernel)",
   "language": "python",
   "name": "python3"
  },
  "language_info": {
   "codemirror_mode": {
    "name": "ipython",
    "version": 3
   },
   "file_extension": ".py",
   "mimetype": "text/x-python",
   "name": "python",
   "nbconvert_exporter": "python",
   "pygments_lexer": "ipython3",
   "version": "3.10.13"
  }
 },
 "nbformat": 4,
 "nbformat_minor": 5
}
